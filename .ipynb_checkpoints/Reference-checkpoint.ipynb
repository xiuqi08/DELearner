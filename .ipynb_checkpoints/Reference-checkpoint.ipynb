{
 "cells": [
  {
   "cell_type": "code",
   "execution_count": 9,
   "metadata": {
    "collapsed": true
   },
   "outputs": [],
   "source": [
    "import pandas as pd\n",
    "import numpy as np\n",
    "import glob\n",
    "import os\n",
    "import re"
   ]
  },
  {
   "cell_type": "code",
   "execution_count": 3,
   "metadata": {},
   "outputs": [
    {
     "name": "stdout",
     "output_type": "stream",
     "text": [
      "ACL\n",
      "ICDM\n",
      "ICML\n",
      "KDD\n",
      "NIPS\n",
      "SIGMOD\n",
      "SIGIR\n"
     ]
    }
   ],
   "source": [
    "confs = [\"ACL\",\"ICDM\",\"ICML\",\"KDD\",\"NIPS\",\"SIGMOD\",\"SIGIR\"]\n",
    "for conf in confs:\n",
    "    try:\n",
    "        for f in glob.glob(os.path.join(\"./\",\"TXT\",conf+\"*.txt\")):\n",
    "            lines = []\n",
    "            print(f)\n",
    "            for line in open(f):\n",
    "                lines.append(line)\n",
    "    except:\n",
    "        pass"
   ]
  },
  {
   "cell_type": "code",
   "execution_count": null,
   "metadata": {
    "collapsed": true
   },
   "outputs": [],
   "source": []
  }
 ],
 "metadata": {
  "kernelspec": {
   "display_name": "Python 3",
   "language": "python",
   "name": "python3"
  },
  "language_info": {
   "codemirror_mode": {
    "name": "ipython",
    "version": 3
   },
   "file_extension": ".py",
   "mimetype": "text/x-python",
   "name": "python",
   "nbconvert_exporter": "python",
   "pygments_lexer": "ipython3",
   "version": "3.6.2"
  }
 },
 "nbformat": 4,
 "nbformat_minor": 2
}
